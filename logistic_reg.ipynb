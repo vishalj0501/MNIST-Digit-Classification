{
 "cells": [
  {
   "cell_type": "code",
   "execution_count": 2,
   "metadata": {},
   "outputs": [],
   "source": [
    "import torch\n",
    "import torchvision\n",
    "from torchvision.datasets import MNIST\n"
   ]
  },
  {
   "cell_type": "code",
   "execution_count": 3,
   "metadata": {},
   "outputs": [],
   "source": [
    "dataset = MNIST(root='data/', download=True)"
   ]
  },
  {
   "cell_type": "code",
   "execution_count": 4,
   "metadata": {},
   "outputs": [
    {
     "data": {
      "text/plain": [
       "60000"
      ]
     },
     "execution_count": 4,
     "metadata": {},
     "output_type": "execute_result"
    }
   ],
   "source": [
    "len(dataset)"
   ]
  },
  {
   "cell_type": "code",
   "execution_count": 5,
   "metadata": {},
   "outputs": [
    {
     "data": {
      "text/plain": [
       "10000"
      ]
     },
     "execution_count": 5,
     "metadata": {},
     "output_type": "execute_result"
    }
   ],
   "source": [
    "test_dataset= MNIST(root='data/',train=False)\n",
    "len(test_dataset)"
   ]
  },
  {
   "cell_type": "code",
   "execution_count": 6,
   "metadata": {},
   "outputs": [
    {
     "data": {
      "text/plain": [
       "(<PIL.Image.Image image mode=L size=28x28>, 5)"
      ]
     },
     "execution_count": 6,
     "metadata": {},
     "output_type": "execute_result"
    }
   ],
   "source": [
    "dataset[0]"
   ]
  },
  {
   "cell_type": "code",
   "execution_count": 7,
   "metadata": {},
   "outputs": [],
   "source": [
    "import matplotlib.pyplot as plt"
   ]
  },
  {
   "cell_type": "code",
   "execution_count": 8,
   "metadata": {},
   "outputs": [
    {
     "name": "stdout",
     "output_type": "stream",
     "text": [
      "Label: 5\n"
     ]
    },
    {
     "data": {
      "image/png": "[encoded data removed]",
      "text/plain": [
       "<Figure size 432x288 with 1 Axes>"
      ]
     },
     "metadata": {
      "needs_background": "light"
     },
     "output_type": "display_data"
    }
   ],
   "source": [
    "image,label = dataset[0]\n",
    "plt.imshow(image,cmap='gray')\n",
    "print(\"Label:\",label)"
   ]
  },
  {
   "cell_type": "code",
   "execution_count": 9,
   "metadata": {},
   "outputs": [
    {
     "name": "stdout",
     "output_type": "stream",
     "text": [
      "Label: 2\n"
     ]
    },
    {
     "data": {
      "image/png": "[encoded data removed]",
      "text/plain": [
       "<Figure size 432x288 with 1 Axes>"
      ]
     },
     "metadata": {
      "needs_background": "light"
     },
     "output_type": "display_data"
    }
   ],
   "source": [
    "image,label = dataset[5]\n",
    "plt.imshow(image,cmap='gray')\n",
    "print(\"Label:\",label)"
   ]
  },
  {
   "cell_type": "code",
   "execution_count": 10,
   "metadata": {},
   "outputs": [],
   "source": [
    "import torchvision.transforms as transforms"
   ]
  },
  {
   "cell_type": "code",
   "execution_count": 11,
   "metadata": {},
   "outputs": [
    {
     "data": {
      "text/plain": [
       "Dataset MNIST\n",
       "    Number of datapoints: 60000\n",
       "    Root location: data/\n",
       "    Split: Train"
      ]
     },
     "execution_count": 11,
     "metadata": {},
     "output_type": "execute_result"
    }
   ],
   "source": [
    "dataset"
   ]
  },
  {
   "cell_type": "code",
   "execution_count": 12,
   "metadata": {},
   "outputs": [
    {
     "data": {
      "text/plain": [
       "Dataset MNIST\n",
       "    Number of datapoints: 60000\n",
       "    Root location: data/\n",
       "    Split: Train\n",
       "    StandardTransform\n",
       "Transform: ToTensor()"
      ]
     },
     "execution_count": 12,
     "metadata": {},
     "output_type": "execute_result"
    }
   ],
   "source": [
    "dataset= MNIST(root='data/',train=True,transform=transforms.ToTensor())\n",
    "dataset"
   ]
  },
  {
   "cell_type": "code",
   "execution_count": 13,
   "metadata": {},
   "outputs": [
    {
     "name": "stdout",
     "output_type": "stream",
     "text": [
      "torch.Size([1, 28, 28]) 5\n"
     ]
    }
   ],
   "source": [
    "img_tensor,label=dataset[0]\n",
    "print(img_tensor.shape,label)"
   ]
  },
  {
   "cell_type": "code",
   "execution_count": 14,
   "metadata": {},
   "outputs": [
    {
     "name": "stdout",
     "output_type": "stream",
     "text": [
      "tensor([[0.0039, 0.6039, 0.9922, 0.3529, 0.0000],\n",
      "        [0.0000, 0.5451, 0.9922, 0.7451, 0.0078],\n",
      "        [0.0000, 0.0431, 0.7451, 0.9922, 0.2745],\n",
      "        [0.0000, 0.0000, 0.1373, 0.9451, 0.8824],\n",
      "        [0.0000, 0.0000, 0.0000, 0.3176, 0.9412]])\n",
      "tensor(1.) tensor(0.)\n"
     ]
    }
   ],
   "source": [
    "print(img_tensor[0,10:15,10:15])\n",
    "print(torch.max(img_tensor), torch.min(img_tensor))"
   ]
  },
  {
   "cell_type": "code",
   "execution_count": 15,
   "metadata": {},
   "outputs": [
    {
     "data": {
      "text/plain": [
       "<matplotlib.image.AxesImage at 0x1367477c0>"
      ]
     },
     "execution_count": 15,
     "metadata": {},
     "output_type": "execute_result"
    },
    {
     "data": {
      "image/png": "[encoded data removed]",
      "text/plain": [
       "<Figure size 432x288 with 1 Axes>"
      ]
     },
     "metadata": {
      "needs_background": "light"
     },
     "output_type": "display_data"
    }
   ],
   "source": [
    "plt.imshow(img_tensor[0,10:15,10:15],cmap='gray')"
   ]
  },
  {
   "cell_type": "code",
   "execution_count": 16,
   "metadata": {},
   "outputs": [
    {
     "data": {
      "text/plain": [
       "(50000, 10000)"
      ]
     },
     "execution_count": 16,
     "metadata": {},
     "output_type": "execute_result"
    }
   ],
   "source": [
    "from torch.utils.data import random_split,DataLoader\n",
    "\n",
    "train_ds,val_ds= random_split(dataset,[50000,10000])\n",
    "len(train_ds),len(val_ds)"
   ]
  },
  {
   "cell_type": "code",
   "execution_count": 17,
   "metadata": {},
   "outputs": [],
   "source": [
    "batch_size=128\n",
    "train_loader= DataLoader(train_ds,batch_size,shuffle=True)\n",
    "val_loader= DataLoader(val_ds,batch_size)"
   ]
  },
  {
   "cell_type": "code",
   "execution_count": 18,
   "metadata": {},
   "outputs": [],
   "source": [
    "import torch.nn as nn\n",
    "\n",
    "input_size=28*28\n",
    "num_classes=10\n",
    "\n",
    "model=nn.Linear(input_size,num_classes)"
   ]
  },
  {
   "cell_type": "code",
   "execution_count": 19,
   "metadata": {},
   "outputs": [
    {
     "name": "stdout",
     "output_type": "stream",
     "text": [
      "torch.Size([10, 784])\n"
     ]
    },
    {
     "data": {
      "text/plain": [
       "Parameter containing:\n",
       "tensor([[-0.0241,  0.0290,  0.0017,  ...,  0.0002,  0.0049,  0.0284],\n",
       "        [ 0.0245,  0.0313, -0.0288,  ..., -0.0010,  0.0275,  0.0253],\n",
       "        [ 0.0207, -0.0212,  0.0142,  ...,  0.0047, -0.0056, -0.0204],\n",
       "        ...,\n",
       "        [-0.0147, -0.0120,  0.0315,  ...,  0.0040, -0.0200,  0.0032],\n",
       "        [-0.0266, -0.0255,  0.0075,  ...,  0.0016, -0.0035, -0.0270],\n",
       "        [-0.0279, -0.0160, -0.0175,  ...,  0.0172,  0.0336,  0.0321]],\n",
       "       requires_grad=True)"
      ]
     },
     "execution_count": 19,
     "metadata": {},
     "output_type": "execute_result"
    }
   ],
   "source": [
    "print(model.weight.shape)\n",
    "model.weight"
   ]
  },
  {
   "cell_type": "code",
   "execution_count": 20,
   "metadata": {},
   "outputs": [
    {
     "name": "stdout",
     "output_type": "stream",
     "text": [
      "torch.Size([10])\n"
     ]
    },
    {
     "data": {
      "text/plain": [
       "Parameter containing:\n",
       "tensor([ 0.0007, -0.0347,  0.0131, -0.0183, -0.0145,  0.0327, -0.0188,  0.0243,\n",
       "        -0.0136,  0.0260], requires_grad=True)"
      ]
     },
     "execution_count": 20,
     "metadata": {},
     "output_type": "execute_result"
    }
   ],
   "source": [
    "print(model.bias.shape)\n",
    "model.bias"
   ]
  },
  {
   "cell_type": "code",
   "execution_count": 21,
   "metadata": {},
   "outputs": [
    {
     "name": "stdout",
     "output_type": "stream",
     "text": [
      "tensor([2, 2, 6, 8, 7, 9, 6, 8, 2, 3, 6, 5, 3, 1, 8, 1, 3, 2, 3, 3, 7, 7, 5, 8,\n",
      "        3, 0, 2, 1, 5, 3, 9, 2, 3, 4, 5, 9, 6, 8, 2, 3, 1, 1, 6, 0, 5, 7, 4, 3,\n",
      "        1, 6, 8, 9, 5, 7, 8, 2, 2, 2, 0, 9, 6, 3, 3, 1, 0, 9, 6, 7, 5, 7, 6, 1,\n",
      "        9, 4, 9, 0, 4, 9, 3, 2, 4, 5, 3, 8, 1, 2, 8, 1, 1, 9, 6, 5, 6, 1, 3, 2,\n",
      "        3, 9, 9, 6, 2, 8, 5, 5, 3, 6, 0, 4, 2, 8, 3, 6, 7, 2, 4, 7, 9, 5, 7, 1,\n",
      "        7, 5, 4, 8, 5, 1, 7, 9])\n",
      "torch.Size([128, 1, 28, 28])\n"
     ]
    }
   ],
   "source": [
    "for images,labels in train_loader:\n",
    "    print(labels)\n",
    "    print(images.shape)\n",
    "    break"
   ]
  },
  {
   "cell_type": "code",
   "execution_count": 22,
   "metadata": {},
   "outputs": [
    {
     "data": {
      "text/plain": [
       "torch.Size([128, 1, 28, 28])"
      ]
     },
     "execution_count": 22,
     "metadata": {},
     "output_type": "execute_result"
    }
   ],
   "source": [
    "images.shape"
   ]
  },
  {
   "cell_type": "code",
   "execution_count": 23,
   "metadata": {},
   "outputs": [
    {
     "data": {
      "text/plain": [
       "torch.Size([128, 784])"
      ]
     },
     "execution_count": 23,
     "metadata": {},
     "output_type": "execute_result"
    }
   ],
   "source": [
    "images.reshape(128,784).shape"
   ]
  },
  {
   "cell_type": "code",
   "execution_count": 24,
   "metadata": {},
   "outputs": [],
   "source": [
    "class MnistModel(nn.Module):\n",
    "    def __init__(self):\n",
    "        super().__init__()\n",
    "        self.linear= nn.Linear(input_size,num_classes)\n",
    "    def forward(self,xb):\n",
    "        xb=xb.reshape(-1,784)\n",
    "        out=self.linear(xb)\n",
    "        return out\n",
    "model=MnistModel()"
   ]
  },
  {
   "cell_type": "code",
   "execution_count": 25,
   "metadata": {},
   "outputs": [
    {
     "name": "stdout",
     "output_type": "stream",
     "text": [
      "torch.Size([128, 1, 28, 28])\n",
      "torch.Size([128, 10])\n",
      "Output shape:  torch.Size([128, 10])\n",
      "Output data:  tensor([-0.2477, -0.0817, -0.0064,  0.0556, -0.0869, -0.1254, -0.1752, -0.0115,\n",
      "        -0.2098,  0.1426])\n"
     ]
    }
   ],
   "source": [
    "for images,labels in train_loader:\n",
    "    print(images.shape)\n",
    "    outputs=model(images)\n",
    "    print(outputs.shape)\n",
    "    break\n",
    "\n",
    "print(\"Output shape: \",outputs.shape)\n",
    "print(\"Output data: \",outputs.data[0])"
   ]
  },
  {
   "cell_type": "code",
   "execution_count": 26,
   "metadata": {},
   "outputs": [
    {
     "data": {
      "text/plain": [
       "tensor([[-0.2477, -0.0817, -0.0064,  0.0556, -0.0869, -0.1254, -0.1752, -0.0115,\n",
       "         -0.2098,  0.1426],\n",
       "        [-0.0901, -0.0736, -0.0858, -0.1012, -0.3806, -0.1113, -0.0007, -0.0609,\n",
       "         -0.1264,  0.0812]], grad_fn=<SliceBackward0>)"
      ]
     },
     "execution_count": 26,
     "metadata": {},
     "output_type": "execute_result"
    }
   ],
   "source": [
    "import torch.nn.functional as F\n",
    "outputs[:2]  # Softmax activation function."
   ]
  },
  {
   "cell_type": "code",
   "execution_count": 27,
   "metadata": {},
   "outputs": [
    {
     "name": "stdout",
     "output_type": "stream",
     "text": [
      "Samples probabilities tensor([[0.0835, 0.0986, 0.1063, 0.1131, 0.0981, 0.0944, 0.0898, 0.1058, 0.0868,\n",
      "         0.1234],\n",
      "        [0.0999, 0.1016, 0.1003, 0.0988, 0.0747, 0.0978, 0.1092, 0.1028, 0.0963,\n",
      "         0.1186]])\n",
      "Sum:  0.9999998807907104\n"
     ]
    }
   ],
   "source": [
    "probs=F.softmax(outputs,dim=1)\n",
    "print(\"Samples probabilities\",probs[:2].data)\n",
    "print(\"Sum: \",torch.sum(probs[1]).item())"
   ]
  },
  {
   "cell_type": "code",
   "execution_count": 28,
   "metadata": {},
   "outputs": [
    {
     "name": "stdout",
     "output_type": "stream",
     "text": [
      "tensor([0.1234, 0.1186, 0.1155, 0.1567, 0.1258, 0.1177, 0.1303, 0.1396, 0.1252,\n",
      "        0.1227, 0.1176, 0.1256, 0.1198, 0.1291, 0.1492, 0.1419, 0.1380, 0.1159,\n",
      "        0.1193, 0.1370, 0.1340, 0.1528, 0.1343, 0.1362, 0.1141, 0.1359, 0.1098,\n",
      "        0.1413, 0.1149, 0.1278, 0.1245, 0.1160, 0.1182, 0.1175, 0.1133, 0.1420,\n",
      "        0.1360, 0.1202, 0.1340, 0.1496, 0.1475, 0.1144, 0.1315, 0.1126, 0.1139,\n",
      "        0.1149, 0.1222, 0.1595, 0.1231, 0.1232, 0.1346, 0.1327, 0.1282, 0.1305,\n",
      "        0.1212, 0.1135, 0.1320, 0.1161, 0.1211, 0.1337, 0.1195, 0.1459, 0.1180,\n",
      "        0.1224, 0.1169, 0.1336, 0.1287, 0.1249, 0.1269, 0.1294, 0.1478, 0.1234,\n",
      "        0.1344, 0.1275, 0.1319, 0.1310, 0.1330, 0.1272, 0.1161, 0.1403, 0.1236,\n",
      "        0.1419, 0.1335, 0.1366, 0.1237, 0.1157, 0.1152, 0.1217, 0.1444, 0.1319,\n",
      "        0.1360, 0.1248, 0.1459, 0.1301, 0.1234, 0.1054, 0.1174, 0.1164, 0.1460,\n",
      "        0.1253, 0.1394, 0.1196, 0.1160, 0.1229, 0.1228, 0.1351, 0.1343, 0.1255,\n",
      "        0.1184, 0.1245, 0.1274, 0.1262, 0.1234, 0.1268, 0.1366, 0.1423, 0.1206,\n",
      "        0.1126, 0.1240, 0.1126, 0.1200, 0.1373, 0.1255, 0.1179, 0.1376, 0.1126,\n",
      "        0.1398, 0.1305], grad_fn=<MaxBackward0>)\n",
      "torch.Size([128])\n",
      "tensor([9, 9, 4, 7, 0, 1, 2, 9, 6, 9, 9, 9, 7, 2, 9, 9, 2, 1, 2, 1, 1, 2, 9, 1,\n",
      "        0, 9, 9, 9, 0, 9, 2, 0, 2, 0, 4, 2, 1, 2, 9, 9, 9, 9, 7, 9, 2, 4, 9, 1,\n",
      "        2, 1, 9, 9, 2, 2, 2, 7, 2, 9, 0, 2, 1, 1, 7, 2, 1, 7, 9, 7, 1, 9, 9, 1,\n",
      "        2, 3, 9, 9, 2, 0, 5, 2, 9, 9, 9, 9, 9, 2, 5, 4, 7, 1, 2, 2, 9, 3, 9, 5,\n",
      "        1, 0, 2, 2, 1, 4, 0, 3, 2, 1, 1, 9, 6, 1, 1, 7, 3, 2, 7, 9, 0, 4, 9, 4,\n",
      "        1, 2, 5, 4, 2, 6, 1, 3])\n"
     ]
    }
   ],
   "source": [
    "max_probs,preds= torch.max(probs,dim=1)\n",
    "print(max_probs)\n",
    "print(max_probs.shape)\n",
    "print(preds)"
   ]
  },
  {
   "cell_type": "code",
   "execution_count": 29,
   "metadata": {},
   "outputs": [
    {
     "data": {
      "text/plain": [
       "tensor([8, 3, 1, 5, 1, 0, 4, 4, 9, 2, 4, 4, 5, 0, 8, 6, 2, 8, 7, 4, 6, 6, 9, 0,\n",
       "        1, 3, 1, 3, 3, 8, 5, 1, 1, 0, 5, 6, 0, 5, 9, 9, 3, 9, 3, 0, 2, 3, 3, 0,\n",
       "        4, 4, 9, 9, 4, 7, 3, 2, 5, 3, 9, 7, 6, 2, 3, 3, 0, 5, 9, 5, 0, 5, 7, 8,\n",
       "        3, 5, 5, 6, 2, 2, 3, 3, 8, 3, 4, 8, 5, 4, 1, 1, 2, 6, 9, 7, 8, 8, 9, 9,\n",
       "        2, 7, 7, 4, 8, 8, 0, 8, 8, 4, 0, 9, 7, 1, 8, 5, 5, 4, 2, 7, 0, 1, 7, 1,\n",
       "        0, 0, 1, 8, 0, 5, 2, 1])"
      ]
     },
     "execution_count": 29,
     "metadata": {},
     "output_type": "execute_result"
    }
   ],
   "source": [
    "labels"
   ]
  },
  {
   "cell_type": "code",
   "execution_count": 30,
   "metadata": {},
   "outputs": [
    {
     "data": {
      "text/plain": [
       "tensor([[-0.2477, -0.0817, -0.0064,  0.0556, -0.0869, -0.1254, -0.1752, -0.0115,\n",
       "         -0.2098,  0.1426],\n",
       "        [-0.0901, -0.0736, -0.0858, -0.1012, -0.3806, -0.1113, -0.0007, -0.0609,\n",
       "         -0.1264,  0.0812]], grad_fn=<SliceBackward0>)"
      ]
     },
     "execution_count": 30,
     "metadata": {},
     "output_type": "execute_result"
    }
   ],
   "source": [
    "outputs[:2]"
   ]
  },
  {
   "cell_type": "code",
   "execution_count": 31,
   "metadata": {},
   "outputs": [
    {
     "data": {
      "text/plain": [
       "tensor(16)"
      ]
     },
     "execution_count": 31,
     "metadata": {},
     "output_type": "execute_result"
    }
   ],
   "source": [
    "torch.sum(preds==labels)"
   ]
  },
  {
   "cell_type": "code",
   "execution_count": 32,
   "metadata": {},
   "outputs": [],
   "source": [
    "def accuracy(outputs, labels):\n",
    "    _, preds = torch.max(outputs, dim=1)\n",
    "    return torch.tensor(torch.sum(preds == labels).item() / len(preds))"
   ]
  },
  {
   "cell_type": "code",
   "execution_count": 33,
   "metadata": {},
   "outputs": [
    {
     "data": {
      "text/plain": [
       "tensor(0.1250)"
      ]
     },
     "execution_count": 33,
     "metadata": {},
     "output_type": "execute_result"
    }
   ],
   "source": [
    "accuracy(outputs,labels)"
   ]
  },
  {
   "cell_type": "code",
   "execution_count": 34,
   "metadata": {},
   "outputs": [
    {
     "data": {
      "text/plain": [
       "tensor([[0.0835, 0.0986, 0.1063,  ..., 0.1058, 0.0868, 0.1234],\n",
       "        [0.0999, 0.1016, 0.1003,  ..., 0.1028, 0.0963, 0.1186],\n",
       "        [0.0881, 0.1063, 0.0918,  ..., 0.0979, 0.1045, 0.1000],\n",
       "        ...,\n",
       "        [0.0974, 0.1123, 0.0957,  ..., 0.1112, 0.0855, 0.1035],\n",
       "        [0.0803, 0.1398, 0.1093,  ..., 0.1108, 0.0740, 0.1030],\n",
       "        [0.1128, 0.0928, 0.0964,  ..., 0.0961, 0.0933, 0.1014]],\n",
       "       grad_fn=<SoftmaxBackward0>)"
      ]
     },
     "execution_count": 34,
     "metadata": {},
     "output_type": "execute_result"
    }
   ],
   "source": [
    "probs"
   ]
  },
  {
   "cell_type": "code",
   "execution_count": 35,
   "metadata": {},
   "outputs": [
    {
     "data": {
      "text/plain": [
       "tensor([[-0.2477, -0.0817, -0.0064,  ..., -0.0115, -0.2098,  0.1426],\n",
       "        [-0.0901, -0.0736, -0.0858,  ..., -0.0609, -0.1264,  0.0812],\n",
       "        [-0.1950, -0.0070, -0.1544,  ..., -0.0897, -0.0243, -0.0682],\n",
       "        ...,\n",
       "        [-0.0215,  0.1217, -0.0387,  ...,  0.1113, -0.1509,  0.0400],\n",
       "        [-0.2915,  0.2628,  0.0164,  ...,  0.0303, -0.3735, -0.0425],\n",
       "        [ 0.0789, -0.1158, -0.0780,  ..., -0.0806, -0.1110, -0.0269]],\n",
       "       grad_fn=<AddmmBackward0>)"
      ]
     },
     "execution_count": 35,
     "metadata": {},
     "output_type": "execute_result"
    }
   ],
   "source": [
    "outputs"
   ]
  },
  {
   "cell_type": "markdown",
   "metadata": {},
   "source": []
  },
  {
   "cell_type": "code",
   "execution_count": 36,
   "metadata": {},
   "outputs": [],
   "source": [
    "loss_fn=F.cross_entropy"
   ]
  },
  {
   "cell_type": "code",
   "execution_count": 37,
   "metadata": {},
   "outputs": [
    {
     "data": {
      "text/plain": [
       "tensor(2.3386, grad_fn=<NllLossBackward0>)"
      ]
     },
     "execution_count": 37,
     "metadata": {},
     "output_type": "execute_result"
    }
   ],
   "source": [
    "loss=loss_fn(outputs,labels)\n",
    "loss"
   ]
  },
  {
   "cell_type": "code",
   "execution_count": 38,
   "metadata": {},
   "outputs": [],
   "source": [
    "def evaluate(model,val_loader):\n",
    "    outputs=[model.validation_step(batch) for batch in val_loader]\n",
    "    return model.validation_epoch_end(outputs)"
   ]
  },
  {
   "cell_type": "code",
   "execution_count": 39,
   "metadata": {},
   "outputs": [],
   "source": [
    "def fit(epochs, lr, model, train_loader, val_loader, opt_func=torch.optim.SGD):\n",
    "    optimizer = opt_func(model.parameters(), lr)\n",
    "    history = [] # for recording epoch-wise results\n",
    "    \n",
    "    for epoch in range(epochs):\n",
    "        \n",
    "        # Training Phase \n",
    "        for batch in train_loader:\n",
    "            loss = model.training_step(batch)\n",
    "            loss.backward()\n",
    "            optimizer.step()\n",
    "            optimizer.zero_grad()\n",
    "        \n",
    "        # Validation phase\n",
    "        result = evaluate(model, val_loader)\n",
    "        model.epoch_end(epoch, result)\n",
    "        history.append(result)\n",
    "\n",
    "    return history"
   ]
  },
  {
   "attachments": {},
   "cell_type": "markdown",
   "metadata": {},
   "source": []
  },
  {
   "cell_type": "code",
   "execution_count": 40,
   "metadata": {},
   "outputs": [],
   "source": [
    "class MnistModel(nn.Module):\n",
    "    def __init__(self):\n",
    "        super().__init__()\n",
    "        self.linear = nn.Linear(input_size, num_classes)\n",
    "        \n",
    "    def forward(self, xb):\n",
    "        xb = xb.reshape(-1, 784)\n",
    "        out = self.linear(xb)\n",
    "        return out\n",
    "    \n",
    "    def training_step(self, batch):\n",
    "        images, labels = batch \n",
    "        out = self(images)                  # Generate predictions\n",
    "        loss = F.cross_entropy(out, labels) # Calculate loss\n",
    "        return loss\n",
    "    \n",
    "    def validation_step(self, batch):\n",
    "        images, labels = batch \n",
    "        out = self(images)                    # Generate predictions\n",
    "        loss = F.cross_entropy(out, labels)   # Calculate loss\n",
    "        acc = accuracy(out, labels)           # Calculate accuracy\n",
    "        return {'val_loss': loss, 'val_acc': acc}\n",
    "        \n",
    "    def validation_epoch_end(self, outputs):\n",
    "        batch_losses = [x['val_loss'] for x in outputs]\n",
    "        epoch_loss = torch.stack(batch_losses).mean()   # Combine losses\n",
    "        batch_accs = [x['val_acc'] for x in outputs]\n",
    "        epoch_acc = torch.stack(batch_accs).mean()      # Combine accuracies\n",
    "        return {'val_loss': epoch_loss.item(), 'val_acc': epoch_acc.item()}\n",
    "    \n",
    "    def epoch_end(self, epoch, result):\n",
    "        print(\"Epoch [{}], val_loss: {:.4f}, val_acc: {:.4f}\".format(epoch, result['val_loss'], result['val_acc']))\n",
    "    \n",
    "model = MnistModel()"
   ]
  },
  {
   "cell_type": "code",
   "execution_count": 41,
   "metadata": {},
   "outputs": [
    {
     "data": {
      "text/plain": [
       "{'val_loss': 2.2958505153656006, 'val_acc': 0.10314477980136871}"
      ]
     },
     "execution_count": 41,
     "metadata": {},
     "output_type": "execute_result"
    }
   ],
   "source": [
    "result0=evaluate(model,val_loader)\n",
    "result0"
   ]
  },
  {
   "cell_type": "code",
   "execution_count": 42,
   "metadata": {},
   "outputs": [
    {
     "name": "stdout",
     "output_type": "stream",
     "text": [
      "Epoch [0], val_loss: 1.9380, val_acc: 0.6198\n",
      "Epoch [1], val_loss: 1.6725, val_acc: 0.7101\n",
      "Epoch [2], val_loss: 1.4747, val_acc: 0.7486\n",
      "Epoch [3], val_loss: 1.3255, val_acc: 0.7723\n",
      "Epoch [4], val_loss: 1.2107, val_acc: 0.7864\n",
      "Epoch [5], val_loss: 1.1205, val_acc: 0.7966\n",
      "Epoch [6], val_loss: 1.0479, val_acc: 0.8058\n",
      "Epoch [7], val_loss: 0.9883, val_acc: 0.8122\n",
      "Epoch [8], val_loss: 0.9387, val_acc: 0.8186\n",
      "Epoch [9], val_loss: 0.8967, val_acc: 0.8229\n",
      "Epoch [10], val_loss: 0.8608, val_acc: 0.8267\n",
      "Epoch [11], val_loss: 0.8295, val_acc: 0.8303\n",
      "Epoch [12], val_loss: 0.8020, val_acc: 0.8334\n",
      "Epoch [13], val_loss: 0.7778, val_acc: 0.8365\n",
      "Epoch [14], val_loss: 0.7561, val_acc: 0.8390\n",
      "Epoch [15], val_loss: 0.7367, val_acc: 0.8414\n",
      "Epoch [16], val_loss: 0.7191, val_acc: 0.8440\n",
      "Epoch [17], val_loss: 0.7031, val_acc: 0.8472\n",
      "Epoch [18], val_loss: 0.6886, val_acc: 0.8488\n",
      "Epoch [19], val_loss: 0.6753, val_acc: 0.8498\n"
     ]
    }
   ],
   "source": [
    "history1=fit(20,0.001,model,train_loader,val_loader)\n"
   ]
  },
  {
   "cell_type": "code",
   "execution_count": 43,
   "metadata": {},
   "outputs": [
    {
     "data": {
      "image/png": "[encoded data removed]",
      "text/plain": [
       "<Figure size 432x288 with 1 Axes>"
      ]
     },
     "metadata": {
      "needs_background": "light"
     },
     "output_type": "display_data"
    }
   ],
   "source": [
    "history = [result0] + history1\n",
    "accuracies = [result['val_acc'] for result in history]\n",
    "plt.plot(accuracies, '-x')\n",
    "plt.xlabel('epoch')\n",
    "plt.ylabel('accuracy')\n",
    "plt.title('Accuracy vs. No. of epochs');"
   ]
  },
  {
   "cell_type": "code",
   "execution_count": 44,
   "metadata": {},
   "outputs": [],
   "source": [
    "test_dataset=MNIST(root='data/',train=False,transform=transforms.ToTensor())"
   ]
  },
  {
   "cell_type": "code",
   "execution_count": 45,
   "metadata": {},
   "outputs": [
    {
     "name": "stdout",
     "output_type": "stream",
     "text": [
      "Shape: torch.Size([1, 28, 28])\n",
      "Label: 7\n"
     ]
    },
    {
     "data": {
      "image/png": "[encoded data removed]",
      "text/plain": [
       "<Figure size 432x288 with 1 Axes>"
      ]
     },
     "metadata": {
      "needs_background": "light"
     },
     "output_type": "display_data"
    }
   ],
   "source": [
    "img, label = test_dataset[0]\n",
    "plt.imshow(img[0], cmap='gray')\n",
    "print('Shape:', img.shape)\n",
    "print('Label:', label)"
   ]
  },
  {
   "cell_type": "code",
   "execution_count": 46,
   "metadata": {},
   "outputs": [],
   "source": [
    "def predict_image(img,model):\n",
    "    xb=img.unsqueeze(0)\n",
    "    yb=model(xb)\n",
    "    _,preds= torch.max(yb,dim=1)\n",
    "    return preds[0].item()"
   ]
  },
  {
   "cell_type": "code",
   "execution_count": 47,
   "metadata": {},
   "outputs": [
    {
     "name": "stdout",
     "output_type": "stream",
     "text": [
      "Label: 7 , Predicted: 7\n"
     ]
    },
    {
     "data": {
      "image/png": "[encoded data removed]",
      "text/plain": [
       "<Figure size 432x288 with 1 Axes>"
      ]
     },
     "metadata": {
      "needs_background": "light"
     },
     "output_type": "display_data"
    }
   ],
   "source": [
    "img, label = test_dataset[0]\n",
    "plt.imshow(img[0], cmap='gray')\n",
    "print('Label:', label, ', Predicted:', predict_image(img, model))"
   ]
  },
  {
   "cell_type": "code",
   "execution_count": 48,
   "metadata": {},
   "outputs": [
    {
     "name": "stdout",
     "output_type": "stream",
     "text": [
      "Label: 0 , Predicted: 0\n"
     ]
    },
    {
     "data": {
      "image/png": "[encoded data removed]",
      "text/plain": [
       "<Figure size 432x288 with 1 Axes>"
      ]
     },
     "metadata": {
      "needs_background": "light"
     },
     "output_type": "display_data"
    }
   ],
   "source": [
    "img, label = test_dataset[10]\n",
    "plt.imshow(img[0], cmap='gray')\n",
    "print('Label:', label, ', Predicted:', predict_image(img, model))"
   ]
  },
  {
   "cell_type": "code",
   "execution_count": 49,
   "metadata": {},
   "outputs": [
    {
     "name": "stdout",
     "output_type": "stream",
     "text": [
      "Label: 9 , Predicted: 3\n"
     ]
    },
    {
     "data": {
      "image/png": "[encoded data removed]",
      "text/plain": [
       "<Figure size 432x288 with 1 Axes>"
      ]
     },
     "metadata": {
      "needs_background": "light"
     },
     "output_type": "display_data"
    }
   ],
   "source": [
    "img, label = test_dataset[193]\n",
    "plt.imshow(img[0], cmap='gray')\n",
    "print('Label:', label, ', Predicted:', predict_image(img, model))"
   ]
  },
  {
   "cell_type": "code",
   "execution_count": 50,
   "metadata": {},
   "outputs": [
    {
     "data": {
      "text/plain": [
       "{'val_loss': 0.6399775147438049, 'val_acc': 0.8592773675918579}"
      ]
     },
     "execution_count": 50,
     "metadata": {},
     "output_type": "execute_result"
    }
   ],
   "source": [
    "test_loader = DataLoader(test_dataset, batch_size=256)\n",
    "result = evaluate(model, test_loader)\n",
    "result"
   ]
  },
  {
   "cell_type": "code",
   "execution_count": null,
   "metadata": {},
   "outputs": [],
   "source": []
  }
 ],
 "metadata": {
  "kernelspec": {
   "display_name": "Python 3",
   "language": "python",
   "name": "python3"
  },
  "language_info": {
   "codemirror_mode": {
    "name": "ipython",
    "version": 3
   },
   "file_extension": ".py",
   "mimetype": "text/x-python",
   "name": "python",
   "nbconvert_exporter": "python",
   "pygments_lexer": "ipython3",
   "version": "3.10.6"
  },
  "orig_nbformat": 4,
  "vscode": {
   "interpreter": {
    "hash": "aee8b7b246df8f9039afb4144a1f6fd8d2ca17a180786b69acc140d282b71a49"
   }
  }
 },
 "nbformat": 4,
 "nbformat_minor": 2
}
